{
  "cells": [
    {
      "cell_type": "code",
      "execution_count": null,
      "metadata": {
        "id": "LunZ00WGr0uV"
      },
      "outputs": [],
      "source": [
        "import numpy as np\n",
        "import pandas as pd\n",
        "import os"
      ]
    },
    {
      "cell_type": "code",
      "execution_count": null,
      "metadata": {
        "id": "Uhf5g9cVtUjQ"
      },
      "outputs": [],
      "source": [
        "\n",
        "import tensorflow as tf\n",
        "from tensorflow.keras.preprocessing.image import ImageDataGenerator\n",
        "from tensorflow.keras.layers import *"
      ]
    },
    {
      "cell_type": "code",
      "execution_count": null,
      "metadata": {
        "colab": {
          "base_uri": "https://localhost:8080/"
        },
        "id": "ZezGXOJdNiJg",
        "outputId": "8fef414d-ee4a-4386-c2d7-5e4a679a500d"
      },
      "outputs": [
        {
          "name": "stdout",
          "output_type": "stream",
          "text": [
            "Mounted at /content/drive\n"
          ]
        }
      ],
      "source": [
        "from google.colab import drive\n",
        "drive.mount('/content/drive')"
      ]
    },
    {
      "cell_type": "code",
      "execution_count": null,
      "metadata": {
        "colab": {
          "base_uri": "https://localhost:8080/"
        },
        "id": "fflL5cT9Rk-E",
        "outputId": "5276fe2a-10db-427f-cde3-e535c34002f6"
      },
      "outputs": [
        {
          "name": "stdout",
          "output_type": "stream",
          "text": [
            "/content/drive/MyDrive/PlantDiseaseFix\n"
          ]
        }
      ],
      "source": [
        "%cd /content/drive/MyDrive/PlantDiseaseFix"
      ]
    },
    {
      "cell_type": "code",
      "execution_count": null,
      "metadata": {
        "id": "OapAIdOuPl8l"
      },
      "outputs": [],
      "source": [
        "root_dir =  \"/content/drive/MyDrive/PlantDiseaseFix\"\n"
      ]
    },
    {
      "cell_type": "code",
      "execution_count": null,
      "metadata": {
        "colab": {
          "base_uri": "https://localhost:8080/"
        },
        "id": "lRnLBm-Q0u4G",
        "outputId": "15f56808-35e4-4c32-98a4-7dbae4daa12b"
      },
      "outputs": [
        {
          "name": "stdout",
          "output_type": "stream",
          "text": [
            "Validation\n",
            "Test\n",
            "Train\n",
            "path\n",
            "plantdisease.tflite\n",
            "model.tflite\n"
          ]
        }
      ],
      "source": [
        "for i in os.listdir(root_dir):\n",
        "  print(i)"
      ]
    },
    {
      "cell_type": "code",
      "execution_count": null,
      "metadata": {
        "id": "uEoZPsoI1ih4"
      },
      "outputs": [],
      "source": [
        "# Create path\n",
        "\n",
        "train_path = os.path.join(root_dir, \"Train\")\n",
        "test_path = os.path.join(root_dir, \"Test\")\n",
        "val_path = os.path.join(root_dir, \"Validation\")\n"
      ]
    },
    {
      "cell_type": "code",
      "execution_count": null,
      "metadata": {
        "id": "e31TaQeG4ybB"
      },
      "outputs": [],
      "source": [
        "image_size = 224\n",
        "num_class = 3\n",
        "batch_size = 32"
      ]
    },
    {
      "cell_type": "code",
      "execution_count": null,
      "metadata": {
        "id": "TsJAfzeJ1D3N"
      },
      "outputs": [],
      "source": [
        "# Create Object ImageDataGenerator\n",
        "train_datagen = ImageDataGenerator(\n",
        "        rescale=1./255,\n",
        "        shear_range=0.2,\n",
        "        zoom_range=0.2,\n",
        "        horizontal_flip=True)\n",
        "\n",
        "test_datagen = ImageDataGenerator(rescale=1./255)"
      ]
    },
    {
      "cell_type": "code",
      "execution_count": null,
      "metadata": {
        "colab": {
          "base_uri": "https://localhost:8080/"
        },
        "id": "uv66GY-wtZHX",
        "outputId": "546476e1-3990-4325-fe8f-795d1dc5ed7e"
      },
      "outputs": [
        {
          "name": "stdout",
          "output_type": "stream",
          "text": [
            "Found 1331 images belonging to 3 classes.\n",
            "Found 154 images belonging to 3 classes.\n",
            "Found 60 images belonging to 3 classes.\n"
          ]
        }
      ],
      "source": [
        "# Generate from directory\n",
        "train_generator = train_datagen.flow_from_directory(\n",
        "        train_path,\n",
        "        target_size=(image_size, image_size),\n",
        "        batch_size=batch_size)\n",
        "\n",
        "test_generator = test_datagen.flow_from_directory(\n",
        "        test_path,\n",
        "        target_size=(image_size,image_size),\n",
        "        batch_size=batch_size)\n",
        "\n",
        "validation_generator = test_datagen.flow_from_directory(\n",
        "        val_path,\n",
        "        target_size=(image_size,image_size),\n",
        "        batch_size=batch_size)"
      ]
    },
    {
      "cell_type": "code",
      "execution_count": null,
      "metadata": {
        "colab": {
          "base_uri": "https://localhost:8080/"
        },
        "id": "Avc2NSkhtd99",
        "outputId": "b316de97-98ab-4f07-fa11-575969d8f812"
      },
      "outputs": [
        {
          "name": "stdout",
          "output_type": "stream",
          "text": [
            "Downloading data from https://storage.googleapis.com/tensorflow/keras-applications/mobilenet/mobilenet_1_0_224_tf_no_top.h5\n",
            "17225924/17225924 [==============================] - 0s 0us/step\n"
          ]
        }
      ],
      "source": [
        "efficient = tf.keras.applications.mobilenet.MobileNet(\n",
        "    include_top=False, weights='imagenet',\n",
        "    input_shape=(image_size, image_size, 3))"
      ]
    },
    {
      "cell_type": "code",
      "execution_count": null,
      "metadata": {
        "id": "MNEgnXAxvCBN"
      },
      "outputs": [],
      "source": [
        "for layer in efficient.layers:\n",
        "    layer.trainable = False"
      ]
    },
    {
      "cell_type": "code",
      "execution_count": null,
      "metadata": {
        "id": "tv39_HiQvE7-"
      },
      "outputs": [],
      "source": [
        "# Add custom classification layers\n",
        "model = tf.keras.Sequential([\n",
        "    efficient,\n",
        "    tf.keras.layers.GlobalAveragePooling2D(),\n",
        "    tf.keras.layers.Dense(256, activation='relu'),\n",
        "    tf.keras.layers.Dropout(0.5),\n",
        "    tf.keras.layers.Dense(3, activation='softmax')\n",
        "])"
      ]
    },
    {
      "cell_type": "code",
      "execution_count": null,
      "metadata": {
        "id": "UL0uHejQNCBG"
      },
      "outputs": [],
      "source": [
        "model._name = 'mobilenet_plantdisease'"
      ]
    },
    {
      "cell_type": "code",
      "execution_count": null,
      "metadata": {
        "id": "VSK7o-wi6squ"
      },
      "outputs": [],
      "source": [
        "import tensorflow as tf\n",
        "\n",
        "# Define a custom callback\n",
        "class AccuracyCallback(tf.keras.callbacks.Callback):\n",
        "    def on_epoch_end(self, epoch, logs=None):\n",
        "        if logs['accuracy'] >= 0.95:\n",
        "            print(\"\\nReached 95% accuracy. Stopping training.\")\n",
        "            self.model.stop_training = True\n",
        "\n",
        "# Create an instance of the callback\n",
        "accuracy_callback = AccuracyCallback()\n",
        "\n",
        "# Compile and train the model with the callback\n",
        "model.compile(optimizer='adam',\n",
        "              loss='categorical_crossentropy',\n",
        "              metrics=['accuracy'])\n",
        "\n"
      ]
    },
    {
      "cell_type": "code",
      "execution_count": null,
      "metadata": {
        "colab": {
          "base_uri": "https://localhost:8080/"
        },
        "id": "4Wjq_8cCvNdm",
        "outputId": "717abc23-bc47-4bba-8cf4-ce2c704ff7ed"
      },
      "outputs": [
        {
          "name": "stdout",
          "output_type": "stream",
          "text": [
            "Epoch 1/10\n",
            "42/42 [==============================] - 566s 13s/step - loss: 0.4568 - accuracy: 0.8355 - val_loss: 0.0440 - val_accuracy: 1.0000\n",
            "Epoch 2/10\n",
            "42/42 [==============================] - ETA: 0s - loss: 0.1201 - accuracy: 0.9624\n",
            "Reached 95% accuracy. Stopping training.\n",
            "42/42 [==============================] - 332s 8s/step - loss: 0.1201 - accuracy: 0.9624 - val_loss: 0.0541 - val_accuracy: 0.9667\n"
          ]
        },
        {
          "data": {
            "text/plain": [
              "<keras.callbacks.History at 0x7f48997cf670>"
            ]
          },
          "execution_count": 16,
          "metadata": {},
          "output_type": "execute_result"
        }
      ],
      "source": [
        "# Training\n",
        "model.fit(train_generator,\n",
        "          steps_per_epoch=len(train_generator),\n",
        "          epochs=10,\n",
        "          validation_data=validation_generator,\n",
        "          validation_steps=len(validation_generator),\n",
        "          callbacks=[accuracy_callback])"
      ]
    },
    {
      "cell_type": "code",
      "execution_count": null,
      "metadata": {
        "id": "RzkGU99u7ibH"
      },
      "outputs": [],
      "source": [
        "model.save('path/to/save/plantdisease.h5')"
      ]
    },
    {
      "cell_type": "code",
      "execution_count": null,
      "metadata": {
        "id": "5xkCJ5veG7ro"
      },
      "outputs": [],
      "source": [
        "from tensorflow import lite"
      ]
    },
    {
      "cell_type": "code",
      "execution_count": null,
      "metadata": {
        "colab": {
          "base_uri": "https://localhost:8080/"
        },
        "id": "3U4zUIsGMC2Y",
        "outputId": "1e62543e-0c3f-49d1-a032-b17f955011ab"
      },
      "outputs": [
        {
          "name": "stdout",
          "output_type": "stream",
          "text": [
            "/content/drive/MyDrive/PlantDiseaseFix\n"
          ]
        }
      ],
      "source": [
        "%cd \"/content/drive/MyDrive/PlantDiseaseFix\""
      ]
    },
    {
      "cell_type": "code",
      "execution_count": null,
      "metadata": {
        "id": "6ao5PxbLLwwJ"
      },
      "outputs": [],
      "source": [
        "model = tf.keras.models.load_model('path/to/save/plantdisease.h5')\n"
      ]
    },
    {
      "cell_type": "code",
      "execution_count": null,
      "metadata": {
        "colab": {
          "base_uri": "https://localhost:8080/"
        },
        "id": "9XypFbyRMfGs",
        "outputId": "ad2a08e8-5d53-4ee6-9d1d-ea61fd9af82d"
      },
      "outputs": [
        {
          "name": "stderr",
          "output_type": "stream",
          "text": [
            "WARNING:absl:Function `_wrapped_model` contains input name(s) mobilenet_1.00_224_input with unsupported characters which will be renamed to mobilenet_1_00_224_input in the SavedModel.\n",
            "WARNING:absl:`mobilenet_1.00_224_input` is not a valid tf.function parameter name. Sanitizing to `mobilenet_1_00_224_input`.\n",
            "WARNING:absl:`mobilenet_1.00_224_input` is not a valid tf.function parameter name. Sanitizing to `mobilenet_1_00_224_input`.\n",
            "WARNING:absl:`mobilenet_1.00_224_input` is not a valid tf.function parameter name. Sanitizing to `mobilenet_1_00_224_input`.\n",
            "WARNING:absl:Found untraced functions such as _update_step_xla, _jit_compiled_convolution_op, _jit_compiled_convolution_op, _jit_compiled_convolution_op, _jit_compiled_convolution_op while saving (showing 5 of 28). These functions will not be directly callable after loading.\n"
          ]
        }
      ],
      "source": [
        "converter = lite.TFLiteConverter.from_keras_model(model)\n",
        "tflite_model = converter.convert()"
      ]
    },
    {
      "cell_type": "code",
      "execution_count": null,
      "metadata": {
        "id": "lOizaoXeL0HC"
      },
      "outputs": [],
      "source": [
        "# Save the TFLite model to a file\n",
        "with open('model.tflite', 'wb') as f:\n",
        "    f.write(tflite_model)"
      ]
    }
  ],
  "metadata": {
    "colab": {
      "provenance": []
    },
    "kernelspec": {
      "display_name": "Python 3",
      "name": "python3"
    },
    "language_info": {
      "name": "python"
    }
  },
  "nbformat": 4,
  "nbformat_minor": 0
}